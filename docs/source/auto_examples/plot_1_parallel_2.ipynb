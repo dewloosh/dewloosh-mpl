{
  "cells": [
    {
      "cell_type": "code",
      "execution_count": null,
      "metadata": {
        "collapsed": false
      },
      "outputs": [],
      "source": [
        "%matplotlib inline"
      ]
    },
    {
      "cell_type": "markdown",
      "metadata": {},
      "source": [
        "\n# Aligned Parallel Plots\n"
      ]
    },
    {
      "cell_type": "code",
      "execution_count": null,
      "metadata": {
        "collapsed": false
      },
      "outputs": [],
      "source": [
        "from dewloosh.mpl import aligned_parallel\nimport numpy as np\n\nlabels = ['a', 'b', 'c']\nvalues = np.array([np.random.rand(150) for _ in labels]).T\ndatapos = np.linspace(-1, 1, 150)\naligned_parallel(values, datapos, labels=labels, yticks=[-1, 1], y=0.8,\n                 xticksrotation=0, vlines=[0., 1.], figsize=(7, 5))"
      ]
    }
  ],
  "metadata": {
    "kernelspec": {
      "display_name": "Python 3",
      "language": "python",
      "name": "python3"
    },
    "language_info": {
      "codemirror_mode": {
        "name": "ipython",
        "version": 3
      },
      "file_extension": ".py",
      "mimetype": "text/x-python",
      "name": "python",
      "nbconvert_exporter": "python",
      "pygments_lexer": "ipython3",
      "version": "3.8.10"
    }
  },
  "nbformat": 4,
  "nbformat_minor": 0
}