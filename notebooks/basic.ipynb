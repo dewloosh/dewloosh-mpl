{
 "cells": [
  {
   "cell_type": "markdown",
   "metadata": {},
   "source": [
    "# Basic Examples"
   ]
  },
  {
   "cell_type": "code",
   "execution_count": 1,
   "metadata": {},
   "outputs": [],
   "source": [
    "from polymesh.grid import grid\n",
    "from polymesh.topo.tr import Q4_to_T3\n",
    "from polymesh.tri.trimesh import triangulate\n",
    "from dewloosh.mpl import triplot\n",
    "import numpy as np\n",
    "gridparams = {\n",
    "    'size' : (1200, 600),\n",
    "    'shape' : (30, 15),\n",
    "    'eshape' : (2, 2),\n",
    "    'origo' : (0, 0),\n",
    "    'start' : 0\n",
    "}\n",
    "coordsQ4, topoQ4 = grid(**gridparams)\n",
    "points, triangles = Q4_to_T3(coordsQ4, topoQ4, path='grid')\n",
    "triobj = triangulate(points=points[:, :2], triangles=triangles)[-1]"
   ]
  }
 ],
 "metadata": {
  "kernelspec": {
   "display_name": "Python 3.8.10 ('.venv': venv)",
   "language": "python",
   "name": "python3"
  },
  "language_info": {
   "codemirror_mode": {
    "name": "ipython",
    "version": 3
   },
   "file_extension": ".py",
   "mimetype": "text/x-python",
   "name": "python",
   "nbconvert_exporter": "python",
   "pygments_lexer": "ipython3",
   "version": "3.8.10"
  },
  "orig_nbformat": 4,
  "vscode": {
   "interpreter": {
    "hash": "b980728ad126710870d924bd600d51c57778e9ce8ea99cedbc6f8972e9551fe6"
   }
  }
 },
 "nbformat": 4,
 "nbformat_minor": 2
}
