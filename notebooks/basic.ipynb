{
 "cells": [
  {
   "cell_type": "markdown",
   "metadata": {},
   "source": [
    "# Basic Examples"
   ]
  },
  {
   "cell_type": "code",
   "execution_count": 1,
   "metadata": {},
   "outputs": [
    {
     "ename": "ModuleNotFoundError",
     "evalue": "No module named 'pyvista'",
     "output_type": "error",
     "traceback": [
      "\u001b[1;31m---------------------------------------------------------------------------\u001b[0m",
      "\u001b[1;31mModuleNotFoundError\u001b[0m                       Traceback (most recent call last)",
      "\u001b[1;32mf:\\GitHub\\dewloosh\\dewloosh-mpl\\notebooks\\basic.ipynb Cell 2\u001b[0m in \u001b[0;36m<cell line: 1>\u001b[1;34m()\u001b[0m\n\u001b[1;32m----> <a href='vscode-notebook-cell:/f%3A/GitHub/dewloosh/dewloosh-mpl/notebooks/basic.ipynb#W1sZmlsZQ%3D%3D?line=0'>1</a>\u001b[0m \u001b[39mfrom\u001b[39;00m \u001b[39mpolymesh\u001b[39;00m\u001b[39m.\u001b[39;00m\u001b[39mgrid\u001b[39;00m \u001b[39mimport\u001b[39;00m grid\n\u001b[0;32m      <a href='vscode-notebook-cell:/f%3A/GitHub/dewloosh/dewloosh-mpl/notebooks/basic.ipynb#W1sZmlsZQ%3D%3D?line=1'>2</a>\u001b[0m \u001b[39mfrom\u001b[39;00m \u001b[39mpolymesh\u001b[39;00m\u001b[39m.\u001b[39;00m\u001b[39mtopo\u001b[39;00m\u001b[39m.\u001b[39;00m\u001b[39mtr\u001b[39;00m \u001b[39mimport\u001b[39;00m Q4_to_T3\n\u001b[0;32m      <a href='vscode-notebook-cell:/f%3A/GitHub/dewloosh/dewloosh-mpl/notebooks/basic.ipynb#W1sZmlsZQ%3D%3D?line=2'>3</a>\u001b[0m \u001b[39mfrom\u001b[39;00m \u001b[39mpolymesh\u001b[39;00m\u001b[39m.\u001b[39;00m\u001b[39mtri\u001b[39;00m\u001b[39m.\u001b[39;00m\u001b[39mtrimesh\u001b[39;00m \u001b[39mimport\u001b[39;00m triangulate\n",
      "File \u001b[1;32mf:\\GitHub\\dewloosh\\dewloosh-mpl\\.venv\\lib\\site-packages\\polymesh\\__init__.py:7\u001b[0m, in \u001b[0;36m<module>\u001b[1;34m\u001b[0m\n\u001b[0;32m      5\u001b[0m \u001b[39mfrom\u001b[39;00m \u001b[39m.\u001b[39;00m\u001b[39mspace\u001b[39;00m \u001b[39mimport\u001b[39;00m PointCloud\n\u001b[0;32m      6\u001b[0m \u001b[39mfrom\u001b[39;00m \u001b[39m.\u001b[39;00m\u001b[39mspace\u001b[39;00m \u001b[39mimport\u001b[39;00m CartesianFrame\n\u001b[1;32m----> 7\u001b[0m \u001b[39mfrom\u001b[39;00m \u001b[39m.\u001b[39;00m\u001b[39mpolydata\u001b[39;00m \u001b[39mimport\u001b[39;00m PolyData\n\u001b[0;32m      8\u001b[0m \u001b[39mfrom\u001b[39;00m \u001b[39m.\u001b[39;00m\u001b[39mlinedata\u001b[39;00m \u001b[39mimport\u001b[39;00m LineData\n\u001b[0;32m      9\u001b[0m \u001b[39mfrom\u001b[39;00m \u001b[39m.\u001b[39;00m\u001b[39mlinedata\u001b[39;00m \u001b[39mimport\u001b[39;00m LineData \u001b[39mas\u001b[39;00m PolyData1d\n",
      "File \u001b[1;32mf:\\GitHub\\dewloosh\\dewloosh-mpl\\.venv\\lib\\site-packages\\polymesh\\polydata.py:20\u001b[0m, in \u001b[0;36m<module>\u001b[1;34m\u001b[0m\n\u001b[0;32m     18\u001b[0m \u001b[39mfrom\u001b[39;00m \u001b[39m.\u001b[39;00m\u001b[39mutils\u001b[39;00m \u001b[39mimport\u001b[39;00m k_nearest_neighbours \u001b[39mas\u001b[39;00m KNN\n\u001b[0;32m     19\u001b[0m \u001b[39mfrom\u001b[39;00m \u001b[39m.\u001b[39;00m\u001b[39mvtkutils\u001b[39;00m \u001b[39mimport\u001b[39;00m mesh_to_UnstructuredGrid \u001b[39mas\u001b[39;00m mesh_to_vtk, PolyData_to_mesh\n\u001b[1;32m---> 20\u001b[0m \u001b[39mfrom\u001b[39;00m \u001b[39m.\u001b[39;00m\u001b[39mcells\u001b[39;00m \u001b[39mimport\u001b[39;00m (\n\u001b[0;32m     21\u001b[0m     T3 \u001b[39mas\u001b[39;00m Triangle,\n\u001b[0;32m     22\u001b[0m     Q4 \u001b[39mas\u001b[39;00m Quadrilateral,\n\u001b[0;32m     23\u001b[0m     H8 \u001b[39mas\u001b[39;00m Hexahedron,\n\u001b[0;32m     24\u001b[0m     H27 \u001b[39mas\u001b[39;00m TriquadraticHexaHedron,\n\u001b[0;32m     25\u001b[0m     Q9,\n\u001b[0;32m     26\u001b[0m     TET10\n\u001b[0;32m     27\u001b[0m )\n\u001b[0;32m     28\u001b[0m \u001b[39mfrom\u001b[39;00m \u001b[39m.\u001b[39;00m\u001b[39mpolyhedron\u001b[39;00m \u001b[39mimport\u001b[39;00m Wedge\n\u001b[0;32m     29\u001b[0m \u001b[39mfrom\u001b[39;00m \u001b[39m.\u001b[39;00m\u001b[39mutils\u001b[39;00m \u001b[39mimport\u001b[39;00m index_of_closest_point, nodal_distribution_factors\n",
      "File \u001b[1;32mf:\\GitHub\\dewloosh\\dewloosh-mpl\\.venv\\lib\\site-packages\\polymesh\\cells\\__init__.py:2\u001b[0m, in \u001b[0;36m<module>\u001b[1;34m\u001b[0m\n\u001b[0;32m      1\u001b[0m \u001b[39m# -*- coding: utf-8 -*-\u001b[39;00m\n\u001b[1;32m----> 2\u001b[0m \u001b[39mfrom\u001b[39;00m \u001b[39m.\u001b[39;00m\u001b[39ml2\u001b[39;00m \u001b[39mimport\u001b[39;00m L2\n\u001b[0;32m      3\u001b[0m \u001b[39mfrom\u001b[39;00m \u001b[39m.\u001b[39;00m\u001b[39ml2\u001b[39;00m \u001b[39mimport\u001b[39;00m L2 \u001b[39mas\u001b[39;00m Line\n\u001b[0;32m      4\u001b[0m \u001b[39mfrom\u001b[39;00m \u001b[39m.\u001b[39;00m\u001b[39ml3\u001b[39;00m \u001b[39mimport\u001b[39;00m L3\n",
      "File \u001b[1;32mf:\\GitHub\\dewloosh\\dewloosh-mpl\\.venv\\lib\\site-packages\\polymesh\\cells\\l2.py:7\u001b[0m, in \u001b[0;36m<module>\u001b[1;34m\u001b[0m\n\u001b[0;32m      4\u001b[0m \u001b[39mimport\u001b[39;00m \u001b[39mnumpy\u001b[39;00m \u001b[39mas\u001b[39;00m \u001b[39mnp\u001b[39;00m\n\u001b[0;32m      5\u001b[0m \u001b[39mfrom\u001b[39;00m \u001b[39mnumpy\u001b[39;00m \u001b[39mimport\u001b[39;00m ndarray\n\u001b[1;32m----> 7\u001b[0m \u001b[39mfrom\u001b[39;00m \u001b[39m.\u001b[39;00m\u001b[39m.\u001b[39;00m\u001b[39mline\u001b[39;00m \u001b[39mimport\u001b[39;00m Line\n\u001b[0;32m      9\u001b[0m __cache \u001b[39m=\u001b[39m \u001b[39mTrue\u001b[39;00m\n\u001b[0;32m     12\u001b[0m __all__ \u001b[39m=\u001b[39m [\u001b[39m'\u001b[39m\u001b[39mL2\u001b[39m\u001b[39m'\u001b[39m]\n",
      "File \u001b[1;32mf:\\GitHub\\dewloosh\\dewloosh-mpl\\.venv\\lib\\site-packages\\polymesh\\line.py:3\u001b[0m, in \u001b[0;36m<module>\u001b[1;34m\u001b[0m\n\u001b[0;32m      1\u001b[0m \u001b[39m# -*- coding: utf-8 -*-\u001b[39;00m\n\u001b[0;32m      2\u001b[0m \u001b[39mfrom\u001b[39;00m \u001b[39m.\u001b[39;00m\u001b[39mutils\u001b[39;00m \u001b[39mimport\u001b[39;00m lengths_of_lines\n\u001b[1;32m----> 3\u001b[0m \u001b[39mfrom\u001b[39;00m \u001b[39m.\u001b[39;00m\u001b[39mcell\u001b[39;00m \u001b[39mimport\u001b[39;00m PolyCell1d\n\u001b[0;32m      4\u001b[0m \u001b[39mimport\u001b[39;00m \u001b[39mnumpy\u001b[39;00m \u001b[39mas\u001b[39;00m \u001b[39mnp\u001b[39;00m\n\u001b[0;32m      6\u001b[0m \u001b[39mfrom\u001b[39;00m \u001b[39m.\u001b[39;00m\u001b[39mutils\u001b[39;00m \u001b[39mimport\u001b[39;00m jacobian_matrix_bulk_1d, jacobian_det_bulk_1d\n",
      "File \u001b[1;32mf:\\GitHub\\dewloosh\\dewloosh-mpl\\.venv\\lib\\site-packages\\polymesh\\cell.py:10\u001b[0m, in \u001b[0;36m<module>\u001b[1;34m\u001b[0m\n\u001b[0;32m      8\u001b[0m \u001b[39mimport\u001b[39;00m \u001b[39mnumpy\u001b[39;00m \u001b[39mas\u001b[39;00m \u001b[39mnp\u001b[39;00m\n\u001b[0;32m      9\u001b[0m \u001b[39mfrom\u001b[39;00m \u001b[39mnumpy\u001b[39;00m \u001b[39mimport\u001b[39;00m ndarray\n\u001b[1;32m---> 10\u001b[0m \u001b[39mimport\u001b[39;00m \u001b[39mpyvista\u001b[39;00m \u001b[39mas\u001b[39;00m \u001b[39mpv\u001b[39;00m\n\u001b[0;32m     12\u001b[0m \u001b[39mfrom\u001b[39;00m \u001b[39mneumann\u001b[39;00m\u001b[39m.\u001b[39;00m\u001b[39marray\u001b[39;00m \u001b[39mimport\u001b[39;00m atleast1d, ascont\n\u001b[0;32m     13\u001b[0m \u001b[39mfrom\u001b[39;00m \u001b[39mneumann\u001b[39;00m\u001b[39m.\u001b[39;00m\u001b[39mutils\u001b[39;00m \u001b[39mimport\u001b[39;00m to_range\n",
      "\u001b[1;31mModuleNotFoundError\u001b[0m: No module named 'pyvista'"
     ]
    }
   ],
   "source": [
    "from polymesh.grid import grid\n",
    "from polymesh.topo.tr import Q4_to_T3\n",
    "from polymesh.tri.trimesh import triangulate\n",
    "from dewloosh.mpl import triplot\n",
    "import numpy as np\n",
    "gridparams = {\n",
    "    'size' : (1200, 600),\n",
    "    'shape' : (30, 15),\n",
    "    'eshape' : (2, 2),\n",
    "    'origo' : (0, 0),\n",
    "    'start' : 0\n",
    "}\n",
    "coordsQ4, topoQ4 = grid(**gridparams)\n",
    "points, triangles = Q4_to_T3(coordsQ4, topoQ4, path='grid')\n",
    "triobj = triangulate(points=points[:, :2], triangles=triangles)[-1]"
   ]
  }
 ],
 "metadata": {
  "kernelspec": {
   "display_name": "Python 3.8.10 ('.venv': venv)",
   "language": "python",
   "name": "python3"
  },
  "language_info": {
   "codemirror_mode": {
    "name": "ipython",
    "version": 3
   },
   "file_extension": ".py",
   "mimetype": "text/x-python",
   "name": "python",
   "nbconvert_exporter": "python",
   "pygments_lexer": "ipython3",
   "version": "3.8.10"
  },
  "orig_nbformat": 4,
  "vscode": {
   "interpreter": {
    "hash": "b980728ad126710870d924bd600d51c57778e9ce8ea99cedbc6f8972e9551fe6"
   }
  }
 },
 "nbformat": 4,
 "nbformat_minor": 2
}
