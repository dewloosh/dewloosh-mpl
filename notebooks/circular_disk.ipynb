{
 "cells": [
  {
   "cell_type": "code",
   "execution_count": 1,
   "metadata": {},
   "outputs": [],
   "source": [
    "from polymesh.recipes import circular_disk"
   ]
  },
  {
   "cell_type": "code",
   "execution_count": null,
   "metadata": {},
   "outputs": [],
   "source": [
    "n_angles = 60\n",
    "n_radii = 30\n",
    "min_radius = 5\n",
    "max_radius = 25\n",
    "\n",
    "disk = circular_disk(n_angles, n_radii, min_radius, max_radius)\n",
    "disk.plot()"
   ]
  }
 ],
 "metadata": {
  "kernelspec": {
   "display_name": "Python 3.8.10 ('.venv': venv)",
   "language": "python",
   "name": "python3"
  },
  "language_info": {
   "codemirror_mode": {
    "name": "ipython",
    "version": 3
   },
   "file_extension": ".py",
   "mimetype": "text/x-python",
   "name": "python",
   "nbconvert_exporter": "python",
   "pygments_lexer": "ipython3",
   "version": "3.8.10"
  },
  "orig_nbformat": 4,
  "vscode": {
   "interpreter": {
    "hash": "b980728ad126710870d924bd600d51c57778e9ce8ea99cedbc6f8972e9551fe6"
   }
  }
 },
 "nbformat": 4,
 "nbformat_minor": 2
}
